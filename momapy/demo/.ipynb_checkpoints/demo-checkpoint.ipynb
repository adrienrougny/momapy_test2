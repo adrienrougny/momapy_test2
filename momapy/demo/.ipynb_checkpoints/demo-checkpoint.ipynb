{
 "cells": [
  {
   "cell_type": "markdown",
   "id": "b188df16",
   "metadata": {},
   "source": [
    "# momapy: a python library for molecular maps"
   ]
  },
  {
   "cell_type": "code",
   "execution_count": 1,
   "id": "71b516ba",
   "metadata": {},
   "outputs": [
    {
     "ename": "ImportError",
     "evalue": "/home/rougny/.local/share/virtualenvs/momapy-yYU1GI1E/lib/python3.10/site-packages/cairo/_cairo.cpython-310-x86_64-linux-gnu.so: undefined symbol: cairo_tee_surface_index",
     "output_type": "error",
     "traceback": [
      "\u001b[0;31m---------------------------------------------------------------------------\u001b[0m",
      "\u001b[0;31mImportError\u001b[0m                               Traceback (most recent call last)",
      "Cell \u001b[0;32mIn[1], line 1\u001b[0m\n\u001b[0;32m----> 1\u001b[0m \u001b[38;5;28;01mimport\u001b[39;00m \u001b[38;5;21;01mmomapy\u001b[39;00m\u001b[38;5;21;01m.\u001b[39;00m\u001b[38;5;21;01msbgn\u001b[39;00m\u001b[38;5;21;01m.\u001b[39;00m\u001b[38;5;21;01mio\u001b[39;00m\n\u001b[1;32m      2\u001b[0m \u001b[38;5;28;01mimport\u001b[39;00m \u001b[38;5;21;01mmomapy\u001b[39;00m\u001b[38;5;21;01m.\u001b[39;00m\u001b[38;5;21;01msbgn\u001b[39;00m\u001b[38;5;21;01m.\u001b[39;00m\u001b[38;5;21;01mstyling\u001b[39;00m\n\u001b[1;32m      3\u001b[0m \u001b[38;5;28;01mimport\u001b[39;00m \u001b[38;5;21;01mmomapy\u001b[39;00m\u001b[38;5;21;01m.\u001b[39;00m\u001b[38;5;21;01msbgn\u001b[39;00m\u001b[38;5;21;01m.\u001b[39;00m\u001b[38;5;21;01mutils\u001b[39;00m\n",
      "File \u001b[0;32m~/code/momapy/momapy/sbgn/io.py:3\u001b[0m\n\u001b[1;32m      1\u001b[0m \u001b[38;5;28;01mimport\u001b[39;00m \u001b[38;5;21;01mtyping\u001b[39;00m\n\u001b[0;32m----> 3\u001b[0m \u001b[38;5;28;01mimport\u001b[39;00m \u001b[38;5;21;01mmomapy\u001b[39;00m\u001b[38;5;21;01m.\u001b[39;00m\u001b[38;5;21;01mcore\u001b[39;00m\n\u001b[1;32m      4\u001b[0m \u001b[38;5;28;01mimport\u001b[39;00m \u001b[38;5;21;01mmomapy\u001b[39;00m\u001b[38;5;21;01m.\u001b[39;00m\u001b[38;5;21;01mbuilder\u001b[39;00m\n\u001b[1;32m      5\u001b[0m \u001b[38;5;28;01mimport\u001b[39;00m \u001b[38;5;21;01mmomapy\u001b[39;00m\u001b[38;5;21;01m.\u001b[39;00m\u001b[38;5;21;01mshapes\u001b[39;00m\n",
      "File \u001b[0;32m~/code/momapy/momapy/core.py:13\u001b[0m\n\u001b[1;32m      9\u001b[0m \u001b[38;5;28;01mimport\u001b[39;00m \u001b[38;5;21;01mcopy\u001b[39;00m\n\u001b[1;32m     11\u001b[0m \u001b[38;5;28;01mimport\u001b[39;00m \u001b[38;5;21;01mshapely\u001b[39;00m\n\u001b[0;32m---> 13\u001b[0m \u001b[38;5;28;01mimport\u001b[39;00m \u001b[38;5;21;01mcairo\u001b[39;00m\n\u001b[1;32m     14\u001b[0m \u001b[38;5;28;01mimport\u001b[39;00m \u001b[38;5;21;01mgi\u001b[39;00m\n\u001b[1;32m     16\u001b[0m gi\u001b[38;5;241m.\u001b[39mrequire_version(\u001b[38;5;124m\"\u001b[39m\u001b[38;5;124mPango\u001b[39m\u001b[38;5;124m\"\u001b[39m, \u001b[38;5;124m\"\u001b[39m\u001b[38;5;124m1.0\u001b[39m\u001b[38;5;124m\"\u001b[39m)\n",
      "File \u001b[0;32m~/.local/share/virtualenvs/momapy-yYU1GI1E/lib/python3.10/site-packages/cairo/__init__.py:1\u001b[0m\n\u001b[0;32m----> 1\u001b[0m \u001b[38;5;28;01mfrom\u001b[39;00m \u001b[38;5;21;01m.\u001b[39;00m\u001b[38;5;21;01m_cairo\u001b[39;00m \u001b[38;5;28;01mimport\u001b[39;00m \u001b[38;5;241m*\u001b[39m  \u001b[38;5;66;03m# noqa: F401,F403\u001b[39;00m\n\u001b[1;32m      4\u001b[0m \u001b[38;5;28;01mdef\u001b[39;00m \u001b[38;5;21mget_include\u001b[39m():\n\u001b[1;32m      5\u001b[0m \u001b[38;5;250m    \u001b[39m\u001b[38;5;124;03m\"\"\"Returns a path to the directory containing the C header files\"\"\"\u001b[39;00m\n",
      "\u001b[0;31mImportError\u001b[0m: /home/rougny/.local/share/virtualenvs/momapy-yYU1GI1E/lib/python3.10/site-packages/cairo/_cairo.cpython-310-x86_64-linux-gnu.so: undefined symbol: cairo_tee_surface_index"
     ]
    }
   ],
   "source": [
    "import momapy.sbgn.io\n",
    "import momapy.sbgn.styling\n",
    "import momapy.sbgn.utils\n",
    "import momapy.rendering.skia\n",
    "import momapy.builder\n",
    "import momapy.coloring\n",
    "import momapy.styling"
   ]
  },
  {
   "cell_type": "code",
   "execution_count": null,
   "id": "7f00e3d3",
   "metadata": {},
   "outputs": [],
   "source": [
    "from momapy.demo.utils import display, show_room"
   ]
  },
  {
   "cell_type": "code",
   "execution_count": null,
   "id": "ea8c9f24",
   "metadata": {},
   "outputs": [],
   "source": [
    "m1 = momapy.sbgn.io.read_file(\"phospho1.sbgn\")\n",
    "display(m1)"
   ]
  },
  {
   "cell_type": "code",
   "execution_count": null,
   "id": "a5dada7f",
   "metadata": {},
   "outputs": [],
   "source": [
    "m2 = momapy.sbgn.io.read_file(\"phospho2.sbgn\")\n",
    "display(m2)"
   ]
  },
  {
   "cell_type": "code",
   "execution_count": null,
   "id": "3d25a5b8",
   "metadata": {},
   "outputs": [],
   "source": [
    "m1 == m2"
   ]
  },
  {
   "cell_type": "code",
   "execution_count": null,
   "id": "7d0155e8",
   "metadata": {},
   "outputs": [],
   "source": [
    "m1.layout == m2.layout"
   ]
  },
  {
   "cell_type": "code",
   "execution_count": null,
   "id": "f2b75b47",
   "metadata": {},
   "outputs": [],
   "source": [
    "m1.model == m2.model"
   ]
  },
  {
   "cell_type": "code",
   "execution_count": null,
   "id": "29cc2990",
   "metadata": {},
   "outputs": [],
   "source": [
    "try:\n",
    "    m1.layout.stroke = momapy.coloring.colors.red\n",
    "except Exception as e:\n",
    "    print(e)"
   ]
  },
  {
   "cell_type": "code",
   "execution_count": null,
   "id": "7853cd79",
   "metadata": {},
   "outputs": [],
   "source": [
    "m1_builder = momapy.builder.builder_from_object(m1)"
   ]
  },
  {
   "cell_type": "code",
   "execution_count": null,
   "id": "d573efa2",
   "metadata": {},
   "outputs": [],
   "source": [
    "m1_builder.layout.stroke = momapy.coloring.colors.red\n",
    "display(m1_builder)"
   ]
  },
  {
   "cell_type": "code",
   "execution_count": null,
   "id": "fc9e18cb",
   "metadata": {},
   "outputs": [],
   "source": [
    "m1_builder = momapy.sbgn.io.read_file(\"phospho1.sbgn\", return_builder=True)"
   ]
  },
  {
   "cell_type": "code",
   "execution_count": null,
   "id": "280c61c8",
   "metadata": {
    "scrolled": false
   },
   "outputs": [],
   "source": [
    "m1_builder.layout.stroke = momapy.coloring.colors.red\n",
    "display(m1_builder)"
   ]
  },
  {
   "cell_type": "code",
   "execution_count": null,
   "id": "fe7233ab",
   "metadata": {},
   "outputs": [],
   "source": [
    "m1 = momapy.sbgn.io.read_file(\"phospho1.sbgn\")\n",
    "m1_builder = momapy.builder.builder_from_object(m1)\n",
    "m1 == m1_builder.build()"
   ]
  },
  {
   "cell_type": "code",
   "execution_count": null,
   "id": "026c3693",
   "metadata": {},
   "outputs": [],
   "source": [
    "m1a_builder = momapy.sbgn.io.read_file(\"phospho1.sbgn\", return_builder=True)\n",
    "m1b_builder = momapy.sbgn.io.read_file(\"phospho1.sbgn\", return_builder=True)\n",
    "m1a_builder == m1b_builder"
   ]
  },
  {
   "cell_type": "code",
   "execution_count": null,
   "id": "522d6429",
   "metadata": {},
   "outputs": [],
   "source": [
    "m1a = m1a_builder.build()\n",
    "m1b = m1b_builder.build()\n",
    "m1a == m1b"
   ]
  },
  {
   "cell_type": "code",
   "execution_count": null,
   "id": "cb860b1b",
   "metadata": {},
   "outputs": [],
   "source": [
    "m1_builder = momapy.sbgn.io.read_file(\"phospho1.sbgn\", return_builder=True)\n",
    "m1_builder.layout.stroke_width = 3\n",
    "m1_builder.layout.stroke = momapy.coloring.colors.red\n",
    "m1 = m1_builder.build()"
   ]
  },
  {
   "cell_type": "code",
   "execution_count": null,
   "id": "6e9c7832",
   "metadata": {},
   "outputs": [],
   "source": [
    "s = set([])\n",
    "for i in range(256):\n",
    "    for j in range(0):\n",
    "            m1_builder.layout.stroke = momapy.coloring.rgba(i, j, 0, 1.0)\n",
    "            s.add(m1_builder.build())\n",
    "l = list(s)"
   ]
  },
  {
   "cell_type": "code",
   "execution_count": null,
   "id": "c1a698dc",
   "metadata": {
    "scrolled": true
   },
   "outputs": [],
   "source": [
    "%%time\n",
    "m1 in s"
   ]
  },
  {
   "cell_type": "code",
   "execution_count": null,
   "id": "9b263331",
   "metadata": {
    "scrolled": true
   },
   "outputs": [],
   "source": [
    "%%time\n",
    "m1 in l"
   ]
  },
  {
   "cell_type": "code",
   "execution_count": null,
   "id": "7458590e",
   "metadata": {},
   "outputs": [],
   "source": [
    "m1_builder = momapy.sbgn.io.read_file(\"phospho1comp.sbgn\", return_builder=True)\n",
    "m1 = m1_builder.build()\n",
    "display(m1)"
   ]
  },
  {
   "cell_type": "code",
   "execution_count": null,
   "id": "f9495f59",
   "metadata": {
    "scrolled": true
   },
   "outputs": [],
   "source": [
    "m2_builder = momapy.sbgn.io.read_file(\"phospho1.sbgn\", return_builder=True)\n",
    "m2_builder.layout.position = m1_builder.layout.position\n",
    "m2_builder.layout.width = m1_builder.layout.width\n",
    "m2_builder.layout.height = m1_builder.layout.height\n",
    "m2 = m2_builder.build()\n",
    "display(m2)"
   ]
  },
  {
   "cell_type": "code",
   "execution_count": null,
   "id": "5fb89bf9",
   "metadata": {},
   "outputs": [],
   "source": [
    "m1.layout.is_sublayout(m2.layout)"
   ]
  },
  {
   "cell_type": "code",
   "execution_count": null,
   "id": "eb562fbb",
   "metadata": {},
   "outputs": [],
   "source": [
    "m1.is_submap(m2)"
   ]
  },
  {
   "cell_type": "code",
   "execution_count": null,
   "id": "75aca933",
   "metadata": {},
   "outputs": [],
   "source": [
    "m1.model.is_submodel(m2.model)"
   ]
  },
  {
   "cell_type": "code",
   "execution_count": null,
   "id": "6dda91e5",
   "metadata": {
    "scrolled": false
   },
   "outputs": [],
   "source": [
    "m1_builder = momapy.sbgn.io.read_file(\"phospho1.sbgn\", return_builder=True)\n",
    "m1_builder.layout.stroke = momapy.coloring.colors.purple\n",
    "momapy.sbgn.utils.set_layout_to_fit_content(m1_builder, xsep=10, ysep=10)"
   ]
  },
  {
   "cell_type": "code",
   "execution_count": null,
   "id": "d18b5385",
   "metadata": {
    "scrolled": false
   },
   "outputs": [],
   "source": [
    "display(m1_builder)"
   ]
  },
  {
   "cell_type": "code",
   "execution_count": null,
   "id": "fd3ac6fa",
   "metadata": {
    "scrolled": true
   },
   "outputs": [],
   "source": [
    "momapy.styling.apply_style_sheet(m1_builder.layout, momapy.sbgn.styling.newt)\n",
    "display(m1_builder)"
   ]
  },
  {
   "cell_type": "code",
   "execution_count": null,
   "id": "89c8cfab",
   "metadata": {},
   "outputs": [],
   "source": [
    "momapy.sbgn.utils.set_auxilliary_units_to_borders(m1_builder)\n",
    "momapy.sbgn.utils.set_arcs_to_borders(m1_builder)\n",
    "display(m1_builder)"
   ]
  },
  {
   "cell_type": "code",
   "execution_count": null,
   "id": "18772982",
   "metadata": {},
   "outputs": [],
   "source": [
    "momapy.styling.apply_style_sheet(m1_builder.layout, momapy.sbgn.styling.vanted)\n",
    "display(m1_builder)"
   ]
  },
  {
   "cell_type": "code",
   "execution_count": null,
   "id": "30a69034",
   "metadata": {
    "scrolled": false
   },
   "outputs": [],
   "source": [
    "momapy.sbgn.utils.set_auxilliary_units_to_borders(m1_builder)\n",
    "momapy.sbgn.utils.set_arcs_to_borders(m1_builder)\n",
    "display(m1_builder)"
   ]
  },
  {
   "cell_type": "code",
   "execution_count": null,
   "id": "4f4c17ae",
   "metadata": {
    "scrolled": false
   },
   "outputs": [],
   "source": [
    "momapy.styling.apply_style_sheet(m1_builder.layout, momapy.sbgn.styling.default_colorscheme)\n",
    "display(m1_builder)"
   ]
  },
  {
   "cell_type": "code",
   "execution_count": null,
   "id": "84a98dbf",
   "metadata": {
    "scrolled": false
   },
   "outputs": [],
   "source": [
    "momapy.styling.apply_style_sheet(m1_builder.layout, momapy.sbgn.styling.shadows)\n",
    "display(m1_builder)"
   ]
  },
  {
   "cell_type": "code",
   "execution_count": null,
   "id": "59986209",
   "metadata": {
    "scrolled": true
   },
   "outputs": [],
   "source": [
    "s = \"\"\"\n",
    "    MacromoleculeLayout {\n",
    "        stroke_width: 3;\n",
    "        fill: red;\n",
    "    }\n",
    "    \n",
    "    StateVariableLayout > TextLayout {\n",
    "        font_size: 20.0;\n",
    "    }\n",
    "    \"\"\"\n",
    "my_style_sheet = momapy.styling.read_string(s)\n",
    "momapy.styling.apply_style_sheet(m1_builder.layout, my_style_sheet)\n",
    "display(m1_builder)"
   ]
  },
  {
   "cell_type": "code",
   "execution_count": null,
   "id": "2050c913",
   "metadata": {
    "scrolled": false
   },
   "outputs": [],
   "source": [
    "s = s.replace(\"red\", \"blue\")\n",
    "with open(\"my_style_sheet.css\", \"w\") as f:\n",
    "    f.write(s)\n",
    "my_style_sheet = momapy.styling.read_file(\"my_style_sheet.css\")\n",
    "momapy.styling.apply_style_sheet(m1_builder.layout, my_style_sheet)\n",
    "display(m1_builder)"
   ]
  },
  {
   "cell_type": "code",
   "execution_count": null,
   "id": "bc80f94e",
   "metadata": {
    "scrolled": false
   },
   "outputs": [],
   "source": [
    "MacromoleculeLayoutBuilder = momapy.builder.get_or_make_builder_cls(momapy.sbgn.pd.MacromoleculeLayout)\n",
    "m = MacromoleculeLayoutBuilder(\n",
    "        position=momapy.geometry.PointBuilder(225, 150),\n",
    "        width=300,\n",
    "        height=150,\n",
    "        stroke_width=1,\n",
    "        rounded_corners=15,\n",
    "        stroke=momapy.coloring.colors.black,\n",
    ")"
   ]
  },
  {
   "cell_type": "code",
   "execution_count": null,
   "id": "bb2c1ead",
   "metadata": {
    "scrolled": false
   },
   "outputs": [],
   "source": [
    "m.north_west()"
   ]
  },
  {
   "cell_type": "code",
   "execution_count": null,
   "id": "9b732df0",
   "metadata": {
    "scrolled": false
   },
   "outputs": [],
   "source": [
    "CrossPointBuilder = momapy.builder.get_or_make_builder_cls(momapy.shapes.CrossPoint)\n",
    "cross_point = CrossPointBuilder(\n",
    "    width=12.0,\n",
    "    height=12.0,\n",
    "    stroke_width=1.5,\n",
    "    stroke=momapy.coloring.colors.red\n",
    ")\n",
    "cross_point.position = m.north_west()\n",
    "m.add_element(cross_point)\n",
    "display(m)"
   ]
  },
  {
   "cell_type": "markdown",
   "id": "60a6b400",
   "metadata": {},
   "source": [
    "All nodes have at least the following anchor points:\n",
    "* north_west\n",
    "* north\n",
    "* north_east\n",
    "* east\n",
    "* south_east\n",
    "* south\n",
    "* south_west\n",
    "* west\n",
    "* center\n",
    "* label_center"
   ]
  },
  {
   "cell_type": "code",
   "execution_count": null,
   "id": "6ddacee6",
   "metadata": {},
   "outputs": [],
   "source": [
    "show_room(momapy.sbgn.pd.SimpleChemicalLayout)"
   ]
  },
  {
   "cell_type": "code",
   "execution_count": null,
   "id": "b26c1842",
   "metadata": {
    "scrolled": true
   },
   "outputs": [],
   "source": [
    "show_room(momapy.sbgn.pd.GenericProcessLayout)"
   ]
  },
  {
   "cell_type": "code",
   "execution_count": null,
   "id": "ed8874a8",
   "metadata": {
    "scrolled": true
   },
   "outputs": [],
   "source": [
    "show_room(momapy.sbgn.pd.ComplexMultimerLayout)"
   ]
  },
  {
   "cell_type": "code",
   "execution_count": null,
   "id": "2edadf5a",
   "metadata": {
    "scrolled": false
   },
   "outputs": [],
   "source": [
    "m.self_angle(120)"
   ]
  },
  {
   "cell_type": "code",
   "execution_count": null,
   "id": "de20bb04",
   "metadata": {
    "scrolled": true
   },
   "outputs": [],
   "source": [
    "cross_point.position = m.self_angle(120)\n",
    "display(m)"
   ]
  },
  {
   "cell_type": "code",
   "execution_count": null,
   "id": "b99cf9f8",
   "metadata": {},
   "outputs": [],
   "source": [
    "m.layout_elements.clear()\n",
    "StateVariableLayoutBuilder = momapy.builder.get_or_make_builder_cls(momapy.sbgn.pd.StateVariableLayout)"
   ]
  },
  {
   "cell_type": "code",
   "execution_count": null,
   "id": "98c243d4",
   "metadata": {
    "scrolled": false
   },
   "outputs": [],
   "source": [
    "s = StateVariableLayoutBuilder(\n",
    "    width=90,\n",
    "    height=45\n",
    ")\n",
    "s.position = m.self_angle(120)\n",
    "m.add_element(s)\n",
    "cross_point.position = m.self_angle(120)\n",
    "m.add_element(cross_point)\n",
    "display(m)"
   ]
  },
  {
   "cell_type": "code",
   "execution_count": null,
   "id": "b4b6706f",
   "metadata": {
    "scrolled": false
   },
   "outputs": [],
   "source": [
    "cross_point.position = m.angle(120)\n",
    "display(m)"
   ]
  },
  {
   "cell_type": "code",
   "execution_count": null,
   "id": "6259a0c0",
   "metadata": {
    "scrolled": false
   },
   "outputs": [],
   "source": [
    "show_room(momapy.sbgn.pd.MacromoleculeLayout, \"angle\")"
   ]
  },
  {
   "cell_type": "code",
   "execution_count": null,
   "id": "608f035c",
   "metadata": {
    "scrolled": false
   },
   "outputs": [],
   "source": [
    "StimulationLayoutBuilder = momapy.builder.get_or_make_builder_cls(momapy.sbgn.pd.StimulationLayout)\n",
    "s = StimulationLayoutBuilder(\n",
    "        segments=[momapy.geometry.Segment(momapy.geometry.PointBuilder(50, 220), momapy.geometry.PointBuilder(400, 30))],\n",
    "        width=30,\n",
    "        height=30,\n",
    "        stroke_width=1,\n",
    "        stroke=momapy.coloring.colors.black,\n",
    ")\n",
    "display(s)"
   ]
  },
  {
   "cell_type": "code",
   "execution_count": null,
   "id": "7b9b4ea5",
   "metadata": {
    "scrolled": true
   },
   "outputs": [],
   "source": [
    "s.fraction(0.3)"
   ]
  },
  {
   "cell_type": "code",
   "execution_count": null,
   "id": "59801727",
   "metadata": {
    "scrolled": true
   },
   "outputs": [],
   "source": [
    "cross_point.position = s.fraction(0.3)[0]\n",
    "s.add_element(cross_point)\n",
    "display(s)"
   ]
  },
  {
   "cell_type": "code",
   "execution_count": null,
   "id": "43e94d33",
   "metadata": {},
   "outputs": [],
   "source": [
    "s.layout_elements.clear()\n",
    "CardinalityLayoutBuilder = momapy.builder.get_or_make_builder_cls(momapy.sbgn.pd.CardinalityLayout)"
   ]
  },
  {
   "cell_type": "code",
   "execution_count": null,
   "id": "f65c42be",
   "metadata": {
    "scrolled": true
   },
   "outputs": [],
   "source": [
    "c = CardinalityLayoutBuilder(\n",
    "    width=90,\n",
    "    height=45,\n",
    ")\n",
    "position, angle = s.fraction(0.3)\n",
    "c.position = position\n",
    "c.transform = tuple([momapy.geometry.Rotation(angle, position)])\n",
    "s.add_element(c)\n",
    "display(s)"
   ]
  },
  {
   "cell_type": "code",
   "execution_count": null,
   "id": "c0b12481",
   "metadata": {
    "scrolled": true
   },
   "outputs": [],
   "source": [
    "label=momapy.core.TextLayoutBuilder(\n",
    "    text=\"N\",\n",
    "    font_family=\"Arial\",\n",
    "    font_size=18,\n",
    "    position=c.label_center()\n",
    ")\n",
    "c.label = label\n",
    "display(s)"
   ]
  },
  {
   "cell_type": "code",
   "execution_count": null,
   "id": "42829f0f",
   "metadata": {
    "scrolled": false
   },
   "outputs": [],
   "source": [
    "momapy.positioning.set_fraction_of(c, s, 0.3, anchor=\"south\")\n",
    "c.label.position = c.label_center()\n",
    "display(s)"
   ]
  },
  {
   "cell_type": "code",
   "execution_count": null,
   "id": "188f5cca",
   "metadata": {},
   "outputs": [],
   "source": [
    "class MyTriangle(momapy.core.NodeLayout):\n",
    "    \n",
    "    def border_drawing_element(self):\n",
    "        path = momapy.drawing.Path()\n",
    "        path += momapy.drawing.move_to(self.position - (0, self.height / 2)) # top\n",
    "        path += momapy.drawing.line_to(self.position + (self.width / 2, self.height / 2)) # bottom right\n",
    "        path += momapy.drawing.line_to(self.position + (-self.width / 2, self.height / 2)) # bottom left\n",
    "        path += momapy.drawing.close()\n",
    "        return path\n",
    "\n"
   ]
  },
  {
   "cell_type": "code",
   "execution_count": null,
   "id": "a79b98ea",
   "metadata": {},
   "outputs": [],
   "source": [
    "show_room(MyTriangle)"
   ]
  },
  {
   "cell_type": "code",
   "execution_count": null,
   "id": "2b08e972",
   "metadata": {},
   "outputs": [],
   "source": [
    "show_room(MyTriangle, \"self_angle\")"
   ]
  },
  {
   "cell_type": "code",
   "execution_count": null,
   "id": "01964042",
   "metadata": {},
   "outputs": [],
   "source": []
  },
  {
   "cell_type": "code",
   "execution_count": null,
   "id": "333e3929",
   "metadata": {},
   "outputs": [],
   "source": []
  },
  {
   "cell_type": "code",
   "execution_count": null,
   "id": "e0fe9394",
   "metadata": {},
   "outputs": [],
   "source": []
  }
 ],
 "metadata": {
  "kernelspec": {
   "display_name": "my-virtualenv-name",
   "language": "python",
   "name": "my-virtualenv-name"
  },
  "language_info": {
   "codemirror_mode": {
    "name": "ipython",
    "version": 3
   },
   "file_extension": ".py",
   "mimetype": "text/x-python",
   "name": "python",
   "nbconvert_exporter": "python",
   "pygments_lexer": "ipython3",
   "version": "3.10.9"
  }
 },
 "nbformat": 4,
 "nbformat_minor": 5
}
